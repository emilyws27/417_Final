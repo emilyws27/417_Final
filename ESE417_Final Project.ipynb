{
 "cells": [
  {
   "cell_type": "code",
   "execution_count": 65,
   "id": "bfcdf5bb",
   "metadata": {
    "scrolled": true
   },
   "outputs": [
    {
     "data": {
      "text/html": [
       "<div>\n",
       "<style scoped>\n",
       "    .dataframe tbody tr th:only-of-type {\n",
       "        vertical-align: middle;\n",
       "    }\n",
       "\n",
       "    .dataframe tbody tr th {\n",
       "        vertical-align: top;\n",
       "    }\n",
       "\n",
       "    .dataframe thead th {\n",
       "        text-align: right;\n",
       "    }\n",
       "</style>\n",
       "<table border=\"1\" class=\"dataframe\">\n",
       "  <thead>\n",
       "    <tr style=\"text-align: right;\">\n",
       "      <th></th>\n",
       "      <th>fixed acidity</th>\n",
       "      <th>volatile acidity</th>\n",
       "      <th>citric acid</th>\n",
       "      <th>residual sugar</th>\n",
       "      <th>chlorides</th>\n",
       "      <th>free sulfur dioxide</th>\n",
       "      <th>total sulfur dioxide</th>\n",
       "      <th>density</th>\n",
       "      <th>pH</th>\n",
       "      <th>sulphates</th>\n",
       "      <th>alcohol</th>\n",
       "      <th>quality</th>\n",
       "    </tr>\n",
       "  </thead>\n",
       "  <tbody>\n",
       "    <tr>\n",
       "      <th>0</th>\n",
       "      <td>7.4</td>\n",
       "      <td>0.70</td>\n",
       "      <td>0.00</td>\n",
       "      <td>1.9</td>\n",
       "      <td>0.076</td>\n",
       "      <td>11.0</td>\n",
       "      <td>34.0</td>\n",
       "      <td>0.9978</td>\n",
       "      <td>3.51</td>\n",
       "      <td>0.56</td>\n",
       "      <td>9.4</td>\n",
       "      <td>5</td>\n",
       "    </tr>\n",
       "    <tr>\n",
       "      <th>1</th>\n",
       "      <td>7.8</td>\n",
       "      <td>0.88</td>\n",
       "      <td>0.00</td>\n",
       "      <td>2.6</td>\n",
       "      <td>0.098</td>\n",
       "      <td>25.0</td>\n",
       "      <td>67.0</td>\n",
       "      <td>0.9968</td>\n",
       "      <td>3.20</td>\n",
       "      <td>0.68</td>\n",
       "      <td>9.8</td>\n",
       "      <td>5</td>\n",
       "    </tr>\n",
       "    <tr>\n",
       "      <th>2</th>\n",
       "      <td>7.8</td>\n",
       "      <td>0.76</td>\n",
       "      <td>0.04</td>\n",
       "      <td>2.3</td>\n",
       "      <td>0.092</td>\n",
       "      <td>15.0</td>\n",
       "      <td>54.0</td>\n",
       "      <td>0.9970</td>\n",
       "      <td>3.26</td>\n",
       "      <td>0.65</td>\n",
       "      <td>9.8</td>\n",
       "      <td>5</td>\n",
       "    </tr>\n",
       "    <tr>\n",
       "      <th>3</th>\n",
       "      <td>11.2</td>\n",
       "      <td>0.28</td>\n",
       "      <td>0.56</td>\n",
       "      <td>1.9</td>\n",
       "      <td>0.075</td>\n",
       "      <td>17.0</td>\n",
       "      <td>60.0</td>\n",
       "      <td>0.9980</td>\n",
       "      <td>3.16</td>\n",
       "      <td>0.58</td>\n",
       "      <td>9.8</td>\n",
       "      <td>6</td>\n",
       "    </tr>\n",
       "    <tr>\n",
       "      <th>4</th>\n",
       "      <td>7.4</td>\n",
       "      <td>0.70</td>\n",
       "      <td>0.00</td>\n",
       "      <td>1.9</td>\n",
       "      <td>0.076</td>\n",
       "      <td>11.0</td>\n",
       "      <td>34.0</td>\n",
       "      <td>0.9978</td>\n",
       "      <td>3.51</td>\n",
       "      <td>0.56</td>\n",
       "      <td>9.4</td>\n",
       "      <td>5</td>\n",
       "    </tr>\n",
       "  </tbody>\n",
       "</table>\n",
       "</div>"
      ],
      "text/plain": [
       "   fixed acidity  volatile acidity  citric acid  residual sugar  chlorides  \\\n",
       "0            7.4              0.70         0.00             1.9      0.076   \n",
       "1            7.8              0.88         0.00             2.6      0.098   \n",
       "2            7.8              0.76         0.04             2.3      0.092   \n",
       "3           11.2              0.28         0.56             1.9      0.075   \n",
       "4            7.4              0.70         0.00             1.9      0.076   \n",
       "\n",
       "   free sulfur dioxide  total sulfur dioxide  density    pH  sulphates  \\\n",
       "0                 11.0                  34.0   0.9978  3.51       0.56   \n",
       "1                 25.0                  67.0   0.9968  3.20       0.68   \n",
       "2                 15.0                  54.0   0.9970  3.26       0.65   \n",
       "3                 17.0                  60.0   0.9980  3.16       0.58   \n",
       "4                 11.0                  34.0   0.9978  3.51       0.56   \n",
       "\n",
       "   alcohol  quality  \n",
       "0      9.4        5  \n",
       "1      9.8        5  \n",
       "2      9.8        5  \n",
       "3      9.8        6  \n",
       "4      9.4        5  "
      ]
     },
     "execution_count": 65,
     "metadata": {},
     "output_type": "execute_result"
    }
   ],
   "source": [
    "import numpy as np\n",
    "import pandas as pd\n",
    "from sklearn.model_selection import train_test_split\n",
    "from sklearn.neural_network import MLPClassifier\n",
    "from sklearn.pipeline import Pipeline\n",
    "from sklearn.preprocessing import StandardScaler\n",
    "from matplotlib import pyplot as plt\n",
    "from sklearn.metrics import classification_report, accuracy_score, confusion_matrix\n",
    "from sklearn.ensemble import RandomForestClassifier\n",
    "from sklearn.preprocessing import StandardScaler\n",
    "from sklearn.feature_selection import SelectKBest\n",
    "from sklearn.feature_selection import chi2\n",
    "from sklearn.model_selection import GridSearchCV\n",
    "from sklearn.metrics import confusion_matrix, ConfusionMatrixDisplay\n",
    "from sklearn.decomposition import PCA\n",
    "from sklearn.pipeline import make_pipeline\n",
    "\n",
    "import matplotlib.pyplot as plt  \n",
    "from sklearn.datasets import make_classification\n",
    "from sklearn.metrics import ConfusionMatrixDisplay\n",
    "from sklearn.model_selection import train_test_split\n",
    "from sklearn.svm import SVC\n",
    "\n",
    "\n",
    "data = pd.read_csv('winequality-red.csv', delimiter=';')\n",
    "data.head()"
   ]
  },
  {
   "cell_type": "code",
   "execution_count": 66,
   "id": "d06708b4",
   "metadata": {},
   "outputs": [
    {
     "data": {
      "image/png": "[encoded data removed]",
      "text/plain": [
       "<Figure size 432x288 with 1 Axes>"
      ]
     },
     "metadata": {
      "needs_background": "light"
     },
     "output_type": "display_data"
    }
   ],
   "source": [
    "# create histogram of wine quality ratings\n",
    "\n",
    "ax = data.hist(column='quality', bins=10, grid=False, color='grey')\n",
    "plt.title('Distribution of Wine Quality Ratings')\n",
    "plt.xlabel('Quality Rating')\n",
    "plt.ylabel('Frequency of Rating')\n",
    "plt.xlim([1,10])\n",
    "plt.show()"
   ]
  },
  {
   "cell_type": "code",
   "execution_count": 67,
   "id": "86525f31",
   "metadata": {},
   "outputs": [],
   "source": [
    "X = data.drop('quality', axis=1)\n",
    "y = data['quality']\n",
    "\n",
    "data.fillna(0, inplace=True) #checking for nulls"
   ]
  },
  {
   "cell_type": "code",
   "execution_count": 68,
   "id": "8231b135",
   "metadata": {},
   "outputs": [
    {
     "data": {
      "image/png": "[encoded data removed]",
      "text/plain": [
       "<Figure size 576x432 with 1 Axes>"
      ]
     },
     "metadata": {
      "needs_background": "light"
     },
     "output_type": "display_data"
    }
   ],
   "source": [
    "# PCA\n",
    "X_pca = X.copy()\n",
    "y_pca = y.copy()\n",
    "X_pca = StandardScaler().fit_transform(X_pca)\n",
    "pca = PCA(n_components=2)\n",
    "X_pca = pca.fit_transform(X_pca)\n",
    "\n",
    "plt.figure(figsize=( 8,6))\n",
    "plt.scatter(X_pca[:, 0],X_pca[:,1],c=y_pca,cmap='rainbow')\n",
    "plt.xlabel('First principal component' )\n",
    "plt.ylabel('Second Principal Component' )\n",
    "plt.title(\"Using PCA to Visualize Classes\" )\n",
    "plt.show()"
   ]
  },
  {
   "cell_type": "code",
   "execution_count": 69,
   "id": "9df6177b",
   "metadata": {},
   "outputs": [
    {
     "name": "stdout",
     "output_type": "stream",
     "text": [
      "PCA Components:\n",
      "  [[ 0.48931422 -0.23858436  0.46363166  0.14610715  0.21224658 -0.03615752\n",
      "   0.02357485  0.39535301 -0.43851962  0.24292133 -0.11323206]\n",
      " [-0.11050274  0.27493048 -0.15179136  0.27208024  0.14805156  0.51356681\n",
      "   0.56948696  0.23357549  0.00671079 -0.03755392 -0.38618096]]\n",
      "PCA Explained Variance Ratio:\n",
      "  [0.28173931 0.1750827 ]\n",
      "PCA Explained Variance:\n",
      "  [3.10107182 1.92711489]\n"
     ]
    }
   ],
   "source": [
    "print(\"PCA Components:\\n \", pca.components_)\n",
    "print(\"PCA Explained Variance Ratio:\\n \", pca.explained_variance_ratio_)\n",
    "print(\"PCA Explained Variance:\\n \", pca.explained_variance_)"
   ]
  },
  {
   "cell_type": "code",
   "execution_count": 70,
   "id": "5947b9fd",
   "metadata": {},
   "outputs": [
    {
     "name": "stdout",
     "output_type": "stream",
     "text": [
      "=====================RANDOM FOREST CLASSIFIER (NO OPTIMIZATION)=====================\n",
      "\n",
      "Accuracy:  0.7125\n",
      "\n",
      "Classification Report: \n",
      "               precision    recall  f1-score   support\n",
      "\n",
      "           3       0.00      0.00      0.00         1\n",
      "           4       0.00      0.00      0.00         9\n",
      "           5       0.78      0.80      0.79       203\n",
      "           6       0.66      0.76      0.71       197\n",
      "           7       0.65      0.50      0.57        60\n",
      "           8       0.00      0.00      0.00        10\n",
      "\n",
      "    accuracy                           0.71       480\n",
      "   macro avg       0.35      0.34      0.34       480\n",
      "weighted avg       0.68      0.71      0.70       480\n",
      "\n"
     ]
    },
    {
     "name": "stderr",
     "output_type": "stream",
     "text": [
      "C:\\ProgramData\\Anaconda3\\lib\\site-packages\\sklearn\\metrics\\_classification.py:1248: UndefinedMetricWarning: Precision and F-score are ill-defined and being set to 0.0 in labels with no predicted samples. Use `zero_division` parameter to control this behavior.\n",
      "  _warn_prf(average, modifier, msg_start, len(result))\n",
      "C:\\ProgramData\\Anaconda3\\lib\\site-packages\\sklearn\\metrics\\_classification.py:1248: UndefinedMetricWarning: Precision and F-score are ill-defined and being set to 0.0 in labels with no predicted samples. Use `zero_division` parameter to control this behavior.\n",
      "  _warn_prf(average, modifier, msg_start, len(result))\n",
      "C:\\ProgramData\\Anaconda3\\lib\\site-packages\\sklearn\\metrics\\_classification.py:1248: UndefinedMetricWarning: Precision and F-score are ill-defined and being set to 0.0 in labels with no predicted samples. Use `zero_division` parameter to control this behavior.\n",
      "  _warn_prf(average, modifier, msg_start, len(result))\n"
     ]
    }
   ],
   "source": [
    "#NO PARAM GRID EXAMPLE (LESS OPTIMAL)\n",
    "param_grid = {   \n",
    "}\n",
    "X_train, X_test, y_train, y_test = train_test_split(X, y, test_size=0.3, random_state=420)\n",
    "\n",
    "rf = RandomForestClassifier()\n",
    "rf.fit(X_train, y_train)\n",
    "y_pred = rf.predict(X_test)\n",
    "accuracy = accuracy_score(y_test, y_pred)\n",
    "report = classification_report(y_test, y_pred)\n",
    "\n",
    "print(\"=====================RANDOM FOREST CLASSIFIER (NO OPTIMIZATION)=====================\\n\")\n",
    "print(\"Accuracy: \", accuracy)\n",
    "print('\\nClassification Report: \\n', report)"
   ]
  },
  {
   "cell_type": "code",
   "execution_count": 71,
   "id": "cfa7c1dd",
   "metadata": {},
   "outputs": [
    {
     "name": "stdout",
     "output_type": "stream",
     "text": [
      "                 Feature        Score\n",
      "6   total sulfur dioxide  2755.557984\n",
      "5    free sulfur dioxide   161.936036\n",
      "10               alcohol    46.429892\n",
      "1       volatile acidity    15.580289\n",
      "2            citric acid    13.025665\n",
      "0          fixed acidity    11.260652\n",
      "9              sulphates     4.558488\n",
      "3         residual sugar     4.123295\n",
      "4              chlorides     0.752426\n",
      "8                     pH     0.154655\n",
      "7                density     0.000230\n"
     ]
    }
   ],
   "source": [
    "X_f = data.loc[:, 'fixed acidity':'alcohol']\n",
    "y_f = data['quality']\n",
    "\n",
    "bestFeaturesFit = SelectKBest(score_func=chi2, k=8).fit(X_f,y_f)\n",
    "dfscores = pd.DataFrame(bestFeaturesFit.scores_)\n",
    "dfcolumns = pd.DataFrame(X_f.columns) \n",
    "\n",
    "category_values = pd.concat([dfcolumns,dfscores],axis=1)\n",
    "category_values.columns = ['Feature','Score']\n",
    "print(category_values.nlargest(dfscores.size,'Score'))"
   ]
  },
  {
   "cell_type": "code",
   "execution_count": 72,
   "id": "6a09ce7f",
   "metadata": {},
   "outputs": [],
   "source": [
    "data = data.drop('density', axis=1)\n",
    "data = data.drop('pH', axis=1)\n",
    "data = data.drop('chlorides', axis=1)\n",
    "\n",
    "X = data.loc[:, 'fixed acidity':'alcohol']\n",
    "y = data['quality']\n",
    "\n",
    "X_train, X_test, y_train, y_test = train_test_split(X, y, test_size=0.2,random_state=450)"
   ]
  },
  {
   "cell_type": "code",
   "execution_count": 73,
   "id": "4488354c",
   "metadata": {},
   "outputs": [
    {
     "name": "stdout",
     "output_type": "stream",
     "text": [
      "Best Random Forest Parameters:  RandomForestClassifier(max_depth=20, min_samples_split=5, n_estimators=75)\n",
      "=====================RANDOM FOREST CLASSIFIER (PARAMETER OPTIMIZATION)=====================\n",
      "\n",
      "Accuracy:  0.71875\n",
      "\n",
      "Classification Report: \n",
      "               precision    recall  f1-score   support\n",
      "\n",
      "           3       0.00      0.00      0.00         2\n",
      "           4       0.00      0.00      0.00        12\n",
      "           5       0.78      0.85      0.82       136\n",
      "           6       0.67      0.75      0.71       129\n",
      "           7       0.61      0.42      0.50        40\n",
      "           8       0.00      0.00      0.00         1\n",
      "\n",
      "    accuracy                           0.72       320\n",
      "   macro avg       0.34      0.34      0.34       320\n",
      "weighted avg       0.68      0.72      0.70       320\n",
      "\n"
     ]
    },
    {
     "name": "stderr",
     "output_type": "stream",
     "text": [
      "C:\\ProgramData\\Anaconda3\\lib\\site-packages\\sklearn\\metrics\\_classification.py:1248: UndefinedMetricWarning: Precision and F-score are ill-defined and being set to 0.0 in labels with no predicted samples. Use `zero_division` parameter to control this behavior.\n",
      "  _warn_prf(average, modifier, msg_start, len(result))\n",
      "C:\\ProgramData\\Anaconda3\\lib\\site-packages\\sklearn\\metrics\\_classification.py:1248: UndefinedMetricWarning: Precision and F-score are ill-defined and being set to 0.0 in labels with no predicted samples. Use `zero_division` parameter to control this behavior.\n",
      "  _warn_prf(average, modifier, msg_start, len(result))\n",
      "C:\\ProgramData\\Anaconda3\\lib\\site-packages\\sklearn\\metrics\\_classification.py:1248: UndefinedMetricWarning: Precision and F-score are ill-defined and being set to 0.0 in labels with no predicted samples. Use `zero_division` parameter to control this behavior.\n",
      "  _warn_prf(average, modifier, msg_start, len(result))\n"
     ]
    }
   ],
   "source": [
    "param_grid = {\n",
    "    'n_estimators': [50, 75, 100],\n",
    "    'max_depth': [None, 5, 10, 20],\n",
    "    'min_samples_split': [2, 5, 10],\n",
    "    'min_samples_leaf': [1, 2, 4],\n",
    "    'bootstrap': [True, False]\n",
    "}\n",
    "\n",
    "rf = RandomForestClassifier()\n",
    "grid_search = GridSearchCV(estimator=rf, param_grid=param_grid, cv=5, n_jobs=-1)\n",
    "grid_search.fit(X_train, y_train)\n",
    "\n",
    "best_rf = grid_search.best_estimator_\n",
    "print(\"Best Random Forest Parameters: \", best_rf)\n",
    "\n",
    "y_pred = best_rf.predict(X_test)\n",
    "accuracy = accuracy_score(y_test, y_pred)\n",
    "report = classification_report(y_test, y_pred)\n",
    "\n",
    "print(\"=====================RANDOM FOREST CLASSIFIER (PARAMETER OPTIMIZATION)=====================\\n\")\n",
    "print(\"Accuracy: \", accuracy)\n",
    "print('\\nClassification Report: \\n', report)"
   ]
  },
  {
   "cell_type": "code",
   "execution_count": 74,
   "id": "ceaef24e",
   "metadata": {
    "scrolled": true
   },
   "outputs": [
    {
     "ename": "AttributeError",
     "evalue": "type object 'ConfusionMatrixDisplay' has no attribute 'from_estimator'",
     "output_type": "error",
     "traceback": [
      "\u001b[1;31m---------------------------------------------------------------------------\u001b[0m",
      "\u001b[1;31mAttributeError\u001b[0m                            Traceback (most recent call last)",
      "\u001b[1;32m~\\AppData\\Local\\Temp/ipykernel_14256/3261242090.py\u001b[0m in \u001b[0;36m<module>\u001b[1;34m\u001b[0m\n\u001b[1;32m----> 1\u001b[1;33m \u001b[0mConfusionMatrixDisplay\u001b[0m\u001b[1;33m.\u001b[0m\u001b[0mfrom_estimator\u001b[0m\u001b[1;33m(\u001b[0m\u001b[0mbest_rf\u001b[0m\u001b[1;33m,\u001b[0m \u001b[0mX_test\u001b[0m\u001b[1;33m,\u001b[0m \u001b[0my_test\u001b[0m\u001b[1;33m)\u001b[0m\u001b[1;33m\u001b[0m\u001b[1;33m\u001b[0m\u001b[0m\n\u001b[0m\u001b[0;32m      2\u001b[0m \u001b[0mplt\u001b[0m\u001b[1;33m.\u001b[0m\u001b[0mtitle\u001b[0m\u001b[1;33m(\u001b[0m\u001b[1;34m\"Confusion Matrix for Random Forest Classifier\"\u001b[0m\u001b[1;33m)\u001b[0m\u001b[1;33m\u001b[0m\u001b[1;33m\u001b[0m\u001b[0m\n\u001b[0;32m      3\u001b[0m \u001b[0mplt\u001b[0m\u001b[1;33m.\u001b[0m\u001b[0mshow\u001b[0m\u001b[1;33m(\u001b[0m\u001b[1;33m)\u001b[0m\u001b[1;33m\u001b[0m\u001b[1;33m\u001b[0m\u001b[0m\n",
      "\u001b[1;31mAttributeError\u001b[0m: type object 'ConfusionMatrixDisplay' has no attribute 'from_estimator'"
     ]
    }
   ],
   "source": [
    "ConfusionMatrixDisplay.from_estimator(best_rf, X_test, y_test)\n",
    "plt.title(\"Confusion Matrix for Random Forest Classifier\")\n",
    "plt.show()"
   ]
  },
  {
   "cell_type": "code",
   "execution_count": null,
   "id": "8f6e2dad",
   "metadata": {},
   "outputs": [],
   "source": [
    "#Getting the top features from the dataset\n",
    "top_features = SelectKBest(score_func=chi2, k=11)\n",
    "\n",
    "dfscores = pd.DataFrame(top_features.fit(X,y).scores_)  #Store predictor scores in a column\n",
    "dfcolumns = pd.DataFrame(X.columns)  #Store predictor variable names in a column\n",
    "\n",
    "#List of features with heaviest weight/importance\n",
    "predScores = pd.concat([dfcolumns,dfscores],axis=1)\n",
    "predScores.columns = ['Predictor','Score']   #naming the dataframe columns\n",
    "print(predScores.nlargest(11,'Score'))       #print top (by score) 10 features\n",
    "\n",
    "#Drop the bottom two features (smallest score)\n",
    "data = data.drop('density', axis=1)\n",
    "data = data.drop('pH', axis=1)\n",
    "\n",
    "X= data.loc[:, 'fixed acidity':'alcohol']\n",
    "y= data['quality']\n",
    "\n",
    "# Split data into training and testing sets\n",
    "X_train, X_test, y_train, y_test = train_test_split(X, y, test_size=0.7, random_state=417)\n",
    "\n",
    "wine_dataset_file = \"winequality-red.csv\"\n",
    "\n",
    "full_df = pd.read_csv(wine_dataset_file, header = 0, delimiter=\";\")"
   ]
  },
  {
   "cell_type": "code",
   "execution_count": null,
   "id": "16409d0c",
   "metadata": {},
   "outputs": [],
   "source": [
    "# Define the parameter grid for the ANN\n",
    "param_grid = {\n",
    "    'ann__hidden_layer_sizes': [(20,), (40,), (50,), (70,), (100,), (500,), (50, 50), (100, 100)],\n",
    "    'ann__activation': ['tanh', 'relu', 'logistic'],\n",
    "    'ann__solver': ['sgd', 'adam'],\n",
    "    'ann__alpha': [0.0001, 0.001, 0.01],\n",
    "    'ann__learning_rate': ['constant', 'adaptive'],\n",
    "    'ann__learning_rate_init' : [0.01, 0.1, 0.2, 0.5, 1]\n",
    "}\n",
    "\n",
    "pipe = Pipeline([(\"norm\", StandardScaler()),\n",
    "                 (\"ann\", MLPClassifier(max_iter=1000, random_state=42))])\n",
    "\n",
    "# Perform grid search with cross-validation\n",
    "grid_search = GridSearchCV(pipe, param_grid, cv=3, n_jobs=-1, verbose=2)\n",
    "grid_search.fit(X_train, y_train)\n",
    "\n",
    "# Get the best parameters\n",
    "best_params = grid_search.best_params_\n",
    "print(\"Best parameters found: \", best_params)\n",
    "\n",
    "\n",
    "pipe.set_params(**best_params)\n",
    "pipe.fit(X_train, y_train)\n",
    "# Predict the test set\n",
    "y_pred = pipe.predict(X_test)\n",
    "\n",
    "# Calculate the evaluation metrics\n",
    "accuracy = accuracy_score(y_test, y_pred)\n",
    "conf_matrix = confusion_matrix(y_test, y_pred)\n",
    "report = classification_report(y_test, y_pred)\n",
    "\n",
    "print(\"=====================ANN CLASSIFIER=====================\\n\")\n",
    "\n",
    "# Print the evaluation metrics\n",
    "print(\"Accuracy: \", accuracy)\n",
    "print(\"Classification Report: \\n\", report)\n",
    "\n",
    "\n",
    "\n",
    "\n",
    "\n",
    "# ### HOW WE DID INITIAL TESTSING (AND GOT THE BEST OUTCOME)\n",
    "# from sklearn.metrics import f1_score\n",
    "\n",
    "# wine_dataset_file = \"winequality-red.csv\"\n",
    "#\n",
    "# full_df = pd.read_csv(wine_dataset_file, header = 0, delimiter=\";\")\n",
    "#\n",
    "# X = full_df.iloc[:, :-1]\n",
    "# Y = full_df.iloc[:, -1]\n",
    "#\n",
    "# X_train, X_test, y_train, y_test = train_test_split(X, Y, train_size=0.7, random_state=417)\n",
    "#\n",
    "# train_score = []\n",
    "# test_score = []\n",
    "# f1s = []\n",
    "#\n",
    "# # more layers does not improve test data\n",
    "# layers = list(range(10,50,5))\n",
    "# for i in layers:\n",
    "#     # scaling / normalizing data helps increase test\n",
    "#     pipe = make_pipeline(StandardScaler(), MLPClassifier(activation = 'logistic',\n",
    "#                                                          solver = 'sgd',\n",
    "#                                                          hidden_layer_sizes = (i,), #tired multiple layers as well, cannot break ~ 0.60 for test\n",
    "#                                                          alpha=1e-2,\n",
    "#                                                          max_iter = 1000,\n",
    "#                                                          learning_rate_init = 0.2))\n",
    "#\n",
    "#     pipe.fit(X_train, y_train)\n",
    "#     y_pred = pipe.predict(X_test)\n",
    "#     train_score.append(pipe.score(X_train,y_train))\n",
    "#     test_score.append(pipe.score(X_test,y_test))\n",
    "#     f1s.append(f1_score(y_test, y_pred, average=\"micro\"))\n",
    "#\n",
    "# plt.plot(layers,train_score,'.',label = 'train set')\n",
    "# plt.plot(layers,test_score,'-',label = 'test set')\n",
    "# plt.xlabel('layers')\n",
    "# plt.ylabel('score')\n",
    "# plt.legend()\n",
    "#\n",
    "# optimal_index = test_score.index(max(test_score))\n",
    "# print(f'Best number of hidden nodes: {layers[optimal_index]}, with a test accuracy of {test_score[optimal_index]}, and a f1 score of {f1s[optimal_index]}')\n",
    "#\n",
    "# non_norm = MLPClassifier(activation = 'logistic',\n",
    "#                          solver = 'sgd',\n",
    "#                          hidden_layer_sizes = (layers[optimal_index]), #tired multiple layers as well, cannot break ~ 0.60 for test\n",
    "#                          alpha=1e-2,\n",
    "#                          max_iter = 1000,\n",
    "#                          learning_rate_init = 0.2)\n",
    "#\n",
    "# non_norm.fit(X_train, y_train)\n",
    "# y_pred = non_norm.predict(X_test)\n",
    "# print(f'Non normalized test accuracy of {f1_score(y_test, y_pred, average=\"micro\")}')"
   ]
  },
  {
   "cell_type": "code",
   "execution_count": null,
   "id": "f6a02e7c",
   "metadata": {},
   "outputs": [],
   "source": []
  }
 ],
 "metadata": {
  "kernelspec": {
   "display_name": "Python 3 (ipykernel)",
   "language": "python",
   "name": "python3"
  },
  "language_info": {
   "codemirror_mode": {
    "name": "ipython",
    "version": 3
   },
   "file_extension": ".py",
   "mimetype": "text/x-python",
   "name": "python",
   "nbconvert_exporter": "python",
   "pygments_lexer": "ipython3",
   "version": "3.9.7"
  }
 },
 "nbformat": 4,
 "nbformat_minor": 5
}
